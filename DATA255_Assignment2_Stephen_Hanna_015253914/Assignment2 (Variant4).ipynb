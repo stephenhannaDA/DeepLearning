{
 "cells": [
  {
   "cell_type": "code",
   "execution_count": 20,
   "metadata": {},
   "outputs": [],
   "source": [
    "import numpy as np\n",
    "from sklearn import datasets\n",
    "from sklearn import preprocessing\n",
    "import torch\n",
    "import numpy as np\n",
    "import matplotlib.pyplot as plt\n",
    "from torch.utils.data import Dataset, DataLoader"
   ]
  },
  {
   "cell_type": "code",
   "execution_count": 21,
   "metadata": {},
   "outputs": [],
   "source": [
    "from torchvision.datasets import CIFAR10\n",
    "from torchvision.transforms import ToTensor"
   ]
  },
  {
   "cell_type": "code",
   "execution_count": 22,
   "metadata": {},
   "outputs": [],
   "source": [
    "import ssl\n",
    "ssl._create_default_https_context = ssl._create_unverified_context"
   ]
  },
  {
   "cell_type": "code",
   "execution_count": 23,
   "metadata": {},
   "outputs": [
    {
     "name": "stdout",
     "output_type": "stream",
     "text": [
      "Files already downloaded and verified\n"
     ]
    }
   ],
   "source": [
    "dataset = CIFAR10(root='data/', download=True, transform=ToTensor())\n",
    "test_dataset = CIFAR10(root='data/', train=False, transform=ToTensor())"
   ]
  },
  {
   "cell_type": "code",
   "execution_count": 26,
   "metadata": {},
   "outputs": [],
   "source": [
    "torch.manual_seed(43)\n",
    "val_size = 5000\n",
    "train_size = len(dataset) - val_size"
   ]
  },
  {
   "cell_type": "code",
   "execution_count": 27,
   "metadata": {},
   "outputs": [
    {
     "data": {
      "text/plain": [
       "(45000, 5000)"
      ]
     },
     "execution_count": 27,
     "metadata": {},
     "output_type": "execute_result"
    }
   ],
   "source": [
    "from torch.utils.data import random_split\n",
    "train_ds, val_ds = random_split(dataset, [train_size, val_size])\n",
    "len(train_ds), len(val_ds)"
   ]
  },
  {
   "cell_type": "code",
   "execution_count": 29,
   "metadata": {},
   "outputs": [],
   "source": [
    "batch_size=100\n",
    "train_loader = DataLoader(dataset, batch_size, shuffle=True, num_workers=4, pin_memory=True)\n",
    "val_loader = DataLoader(val_ds, batch_size, num_workers=4, pin_memory=True)\n",
    "test_loader = DataLoader(test_dataset, batch_size, num_workers=4, pin_memory=True)"
   ]
  },
  {
   "cell_type": "code",
   "execution_count": 30,
   "metadata": {},
   "outputs": [
    {
     "name": "stdout",
     "output_type": "stream",
     "text": [
      "epoch:  1\n",
      "Epoch Loss: 0.023036992092132568\n",
      "Epoch Correct: 4921\n",
      "Epoch Accuracy: 0.09842\n",
      "Epoch Validation Loss: 0.011517908334732055\n",
      "Epoch Validation Correct: 481\n",
      "Epoch Validation Accuracy: 0.0962\n",
      "epoch:  2\n",
      "Epoch Loss: 0.023036291518211363\n",
      "Epoch Correct: 5043\n",
      "Epoch Accuracy: 0.10086\n",
      "Epoch Validation Loss: 0.01152307391166687\n",
      "Epoch Validation Correct: 476\n",
      "Epoch Validation Accuracy: 0.0952\n",
      "epoch:  3\n",
      "Epoch Loss: 0.023035600757598876\n",
      "Epoch Correct: 4995\n",
      "Epoch Accuracy: 0.0999\n",
      "Epoch Validation Loss: 0.01152102484703064\n",
      "Epoch Validation Correct: 514\n",
      "Epoch Validation Accuracy: 0.1028\n",
      "epoch:  4\n",
      "Epoch Loss: 0.02303867875099182\n",
      "Epoch Correct: 4971\n",
      "Epoch Accuracy: 0.09942\n",
      "Epoch Validation Loss: 0.011516469430923462\n",
      "Epoch Validation Correct: 508\n",
      "Epoch Validation Accuracy: 0.1016\n",
      "epoch:  5\n",
      "Epoch Loss: 0.023038554372787477\n",
      "Epoch Correct: 5028\n",
      "Epoch Accuracy: 0.10056\n",
      "Epoch Validation Loss: 0.011515891122817994\n",
      "Epoch Validation Correct: 498\n",
      "Epoch Validation Accuracy: 0.0996\n",
      "24min 47s ± 0 ns per loop (mean ± std. dev. of 1 run, 1 loop each)\n"
     ]
    }
   ],
   "source": [
    "%%timeit -n1 -r1\n",
    "VGG1_channels = [\n",
    "    64, 64, 'Max', 128, 128, 'Max', 256, 256\n",
    "]\n",
    "\n",
    "import torch.nn as nn\n",
    "\n",
    "class VGG(torch.nn.Module):\n",
    "    def __init__(self, VGG_channels, in_channels=3):\n",
    "        super().__init__()\n",
    "        self.in_channels = in_channels\n",
    "        self.layers = []\n",
    "        self.convolution_layers = self.create_convolution_layers(VGG_channels)\n",
    "        self.fcs = nn.Sequential(\n",
    "                nn.Linear(4096, 10)\n",
    "                )\n",
    "        \n",
    "        \n",
    "    def forward(self, x):\n",
    "        x = self.convolution_layers(x)\n",
    "        conv128 = nn.Conv2d(in_channels=256, out_channels=128, kernel_size=1)\n",
    "        conv10 = nn.Conv2d(in_channels=128, out_channels=10, kernel_size=1)\n",
    "        avg_pool = nn.AvgPool2d(kernel_size=8)\n",
    "        x = conv128(x)\n",
    "        x = conv10(x)\n",
    "        x = avg_pool(x)\n",
    "        x = x.reshape(x.shape[0], -1)\n",
    "        return x\n",
    "\n",
    "    def create_convolution_layers(self, VGG_channels):\n",
    "\n",
    "        for channels in VGG_channels:\n",
    "            if channels == 'Max':\n",
    "                max_pool_layer = [nn.MaxPool2d(kernel_size=(2,2))]\n",
    "                self.layers += max_pool_layer\n",
    "            else:\n",
    "                conv_layer = [nn.Conv2d(in_channels=self.in_channels, out_channels=channels,\n",
    "                                                 kernel_size=(3,3), padding='same'), nn.ReLU()]\n",
    "                self.layers += conv_layer\n",
    "                self.in_channels = channels\n",
    "\n",
    "        return nn.Sequential(*self.layers)   \n",
    "    \n",
    "model = VGG(VGG1_channels)\n",
    "num_epochs = 5\n",
    "cost = nn.CrossEntropyLoss()\n",
    "optimizer = torch.optim.SGD(model.parameters(), lr=0.001)\n",
    "\n",
    "train_loss_history = []\n",
    "train_accuracy_history = []\n",
    "val_loss_history = []\n",
    "val_accuracy_history = []\n",
    "\n",
    "for epoch in range(num_epochs):\n",
    "    print('epoch: ', (epoch+1))\n",
    "    correct, total = 0, 0\n",
    "    running_loss = 0\n",
    "    for images, labels in train_loader:\n",
    "        y_hat = model(images)\n",
    "        loss = cost(y_hat, labels)\n",
    "        running_loss += loss.item()\n",
    "        y_pred = torch.softmax(y_hat, dim=1)\n",
    "        pred = y_pred.max(1, keepdim=True)[1]\n",
    "        correct += pred.eq(labels.view_as(pred)).sum().item()\n",
    "        total += int(labels.shape[0])\n",
    "        optimizer.zero_grad()\n",
    "        loss.backward()\n",
    "        optimizer.step()\n",
    "    \n",
    "    \n",
    "    epoch_loss = running_loss/total\n",
    "    epoch_acc = correct/total\n",
    "    train_loss_history.append(epoch_loss)\n",
    "    train_accuracy_history.append(epoch_acc)\n",
    "    print(f'Epoch Loss: {epoch_loss}')\n",
    "    print(f'Epoch Correct: {correct}')\n",
    "    print(f'Epoch Accuracy: {epoch_acc}')\n",
    "    \n",
    "    val_correct, val_total = 0, 0\n",
    "    running_val_loss = 0\n",
    "    for val_inputs, val_labels in val_loader:\n",
    "        val_outputs = model(val_inputs)\n",
    "        val_loss = cost(val_outputs, val_labels)\n",
    "        running_val_loss += val_loss.item()\n",
    "        y_pred = torch.softmax(val_outputs, dim=1)\n",
    "        pred = y_pred.max(1, keepdim=True)[1]\n",
    "        val_correct += pred.eq(val_labels.view_as(pred)).sum().item()\n",
    "        val_total += int(val_labels.shape[0])\n",
    "    \n",
    "    \n",
    "    val_epoch_loss = running_val_loss/val_total\n",
    "    val_epoch_acc = val_correct/val_total\n",
    "    val_loss_history.append(val_epoch_loss)\n",
    "    val_accuracy_history.append(val_epoch_acc)\n",
    "    print(f'Epoch Validation Loss: {val_epoch_loss}')\n",
    "    print(f'Epoch Validation Correct: {val_correct}')\n",
    "    print(f'Epoch Validation Accuracy: {val_epoch_acc}')\n",
    "    "
   ]
  },
  {
   "cell_type": "code",
   "execution_count": 31,
   "metadata": {},
   "outputs": [
    {
     "data": {
      "text/plain": [
       "<matplotlib.legend.Legend at 0x274802b77f0>"
      ]
     },
     "execution_count": 31,
     "metadata": {},
     "output_type": "execute_result"
    },
    {
     "data": {
      "image/png": "[encoded data removed]",
      "text/plain": [
       "<Figure size 432x288 with 1 Axes>"
      ]
     },
     "metadata": {},
     "output_type": "display_data"
    }
   ],
   "source": [
    "plt.style.use('ggplot')\n",
    "plt.plot(train_loss_history, label='training loss')\n",
    "plt.plot(val_loss_history, label='validation loss')\n",
    "plt.legend()"
   ]
  },
  {
   "cell_type": "code",
   "execution_count": 32,
   "metadata": {},
   "outputs": [
    {
     "data": {
      "text/plain": [
       "<matplotlib.legend.Legend at 0x274808c7fd0>"
      ]
     },
     "execution_count": 32,
     "metadata": {},
     "output_type": "execute_result"
    },
    {
     "data": {
      "image/png": "[encoded data removed]",
      "text/plain": [
       "<Figure size 432x288 with 1 Axes>"
      ]
     },
     "metadata": {},
     "output_type": "display_data"
    }
   ],
   "source": [
    "plt.style.use('ggplot')\n",
    "plt.plot(train_accuracy_history, label='training accuracy')\n",
    "plt.plot(val_accuracy_history, label='validation accuracy')\n",
    "plt.legend()"
   ]
  },
  {
   "cell_type": "code",
   "execution_count": 35,
   "metadata": {},
   "outputs": [
    {
     "name": "stdout",
     "output_type": "stream",
     "text": [
      "Test Accuracy: 0.0028\n"
     ]
    }
   ],
   "source": [
    "test_correct, test_total = 0, 0\n",
    "for test_inputs, test_labels in test_loader:\n",
    "    test_outputs = model(test_inputs)\n",
    "    y_pred = torch.softmax(test_outputs, dim=1)\n",
    "    pred = y_pred.max(1, keepdim=True)[1]\n",
    "    test_correct += pred.eq(test_labels.view_as(pred)).sum().item()\n",
    "    test_total += int(test_labels.shape[0])\n",
    "\n",
    "test_acc = test_correct/test_total\n",
    "print(f'Test Accuracy: {test_acc}')"
   ]
  },
  {
   "cell_type": "code",
   "execution_count": 36,
   "metadata": {},
   "outputs": [
    {
     "data": {
      "text/plain": [
       "1186378"
      ]
     },
     "execution_count": 36,
     "metadata": {},
     "output_type": "execute_result"
    }
   ],
   "source": [
    "sum(p.numel() for p in model.parameters() if p.requires_grad)"
   ]
  },
  {
   "cell_type": "code",
   "execution_count": null,
   "metadata": {},
   "outputs": [],
   "source": []
  }
 ],
 "metadata": {
  "kernelspec": {
   "display_name": "Python 3",
   "language": "python",
   "name": "python3"
  },
  "language_info": {
   "codemirror_mode": {
    "name": "ipython",
    "version": 3
   },
   "file_extension": ".py",
   "mimetype": "text/x-python",
   "name": "python",
   "nbconvert_exporter": "python",
   "pygments_lexer": "ipython3",
   "version": "3.8.5"
  }
 },
 "nbformat": 4,
 "nbformat_minor": 4
}
